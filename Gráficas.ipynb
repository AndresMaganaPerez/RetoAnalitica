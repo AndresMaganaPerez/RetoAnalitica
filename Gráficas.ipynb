{
  "nbformat": 4,
  "nbformat_minor": 0,
  "metadata": {
    "colab": {
      "name": "Gráficas",
      "provenance": []
    },
    "kernelspec": {
      "name": "python3",
      "display_name": "Python 3"
    },
    "language_info": {
      "name": "python"
    }
  },
  "cells": [
    {
      "cell_type": "code",
      "metadata": {
        "id": "9lgVVCyrzmeg"
      },
      "source": [
        "import pandas as pd\n",
        "from matplotlib import pyplot as plt"
      ],
      "execution_count": 18,
      "outputs": []
    },
    {
      "cell_type": "code",
      "metadata": {
        "id": "_9-z7q9Y1KOa"
      },
      "source": [
        "x = [1, 2, 3]\n",
        "y = [1, 4, 9]\n",
        "z = [10, 5, 0]"
      ],
      "execution_count": 19,
      "outputs": []
    },
    {
      "cell_type": "code",
      "metadata": {
        "colab": {
          "base_uri": "https://localhost:8080/",
          "height": 312
        },
        "id": "P0z3ltmY0OhC",
        "outputId": "81c483c1-0ae4-4b41-eafc-941fa636635d"
      },
      "source": [
        "plt.plot(x,y)\n",
        "plt.plot(x,z)\n",
        "plt.title('Gráfico de ejemplo')\n",
        "plt.xlabel('x')\n",
        "plt.ylabel('y')\n",
        "plt.legend(['Y', 'Z'])\n",
        "plt.show"
      ],
      "execution_count": 20,
      "outputs": [
        {
          "output_type": "execute_result",
          "data": {
            "text/plain": [
              "<function matplotlib.pyplot.show>"
            ]
          },
          "metadata": {},
          "execution_count": 20
        },
        {
          "output_type": "display_data",
          "data": {
            "image/png": "[encoded data removed]",
            "text/plain": [
              "<Figure size 432x288 with 1 Axes>"
            ]
          },
          "metadata": {
            "needs_background": "light"
          }
        }
      ]
    },
    {
      "cell_type": "code",
      "metadata": {
        "id": "Uyji6LiA02qE",
        "colab": {
          "base_uri": "https://localhost:8080/",
          "height": 1000
        },
        "outputId": "5d42b38e-edb9-4b02-eb46-e9685df8d2f0"
      },
      "source": [
        "df = pd.read_csv('airline-safety.csv')\n",
        "df"
      ],
      "execution_count": 21,
      "outputs": [
        {
          "output_type": "execute_result",
          "data": {
            "text/html": [
              "<div>\n",
              "<style scoped>\n",
              "    .dataframe tbody tr th:only-of-type {\n",
              "        vertical-align: middle;\n",
              "    }\n",
              "\n",
              "    .dataframe tbody tr th {\n",
              "        vertical-align: top;\n",
              "    }\n",
              "\n",
              "    .dataframe thead th {\n",
              "        text-align: right;\n",
              "    }\n",
              "</style>\n",
              "<table border=\"1\" class=\"dataframe\">\n",
              "  <thead>\n",
              "    <tr style=\"text-align: right;\">\n",
              "      <th></th>\n",
              "      <th>airline</th>\n",
              "      <th>avail_seat_km_per_week</th>\n",
              "      <th>incidents_85_99</th>\n",
              "      <th>fatal_accidents_85_99</th>\n",
              "      <th>fatalities_85_99</th>\n",
              "      <th>incidents_00_14</th>\n",
              "      <th>fatal_accidents_00_14</th>\n",
              "      <th>fatalities_00_14</th>\n",
              "    </tr>\n",
              "  </thead>\n",
              "  <tbody>\n",
              "    <tr>\n",
              "      <th>0</th>\n",
              "      <td>Aer Lingus</td>\n",
              "      <td>320906734</td>\n",
              "      <td>2</td>\n",
              "      <td>0</td>\n",
              "      <td>0</td>\n",
              "      <td>0</td>\n",
              "      <td>0</td>\n",
              "      <td>0</td>\n",
              "    </tr>\n",
              "    <tr>\n",
              "      <th>1</th>\n",
              "      <td>Aeroflot*</td>\n",
              "      <td>1197672318</td>\n",
              "      <td>76</td>\n",
              "      <td>14</td>\n",
              "      <td>128</td>\n",
              "      <td>6</td>\n",
              "      <td>1</td>\n",
              "      <td>88</td>\n",
              "    </tr>\n",
              "    <tr>\n",
              "      <th>2</th>\n",
              "      <td>Aerolineas Argentinas</td>\n",
              "      <td>385803648</td>\n",
              "      <td>6</td>\n",
              "      <td>0</td>\n",
              "      <td>0</td>\n",
              "      <td>1</td>\n",
              "      <td>0</td>\n",
              "      <td>0</td>\n",
              "    </tr>\n",
              "    <tr>\n",
              "      <th>3</th>\n",
              "      <td>Aeromexico*</td>\n",
              "      <td>596871813</td>\n",
              "      <td>3</td>\n",
              "      <td>1</td>\n",
              "      <td>64</td>\n",
              "      <td>5</td>\n",
              "      <td>0</td>\n",
              "      <td>0</td>\n",
              "    </tr>\n",
              "    <tr>\n",
              "      <th>4</th>\n",
              "      <td>Air Canada</td>\n",
              "      <td>1865253802</td>\n",
              "      <td>2</td>\n",
              "      <td>0</td>\n",
              "      <td>0</td>\n",
              "      <td>2</td>\n",
              "      <td>0</td>\n",
              "      <td>0</td>\n",
              "    </tr>\n",
              "    <tr>\n",
              "      <th>5</th>\n",
              "      <td>Air France</td>\n",
              "      <td>3004002661</td>\n",
              "      <td>14</td>\n",
              "      <td>4</td>\n",
              "      <td>79</td>\n",
              "      <td>6</td>\n",
              "      <td>2</td>\n",
              "      <td>337</td>\n",
              "    </tr>\n",
              "    <tr>\n",
              "      <th>6</th>\n",
              "      <td>Air India*</td>\n",
              "      <td>869253552</td>\n",
              "      <td>2</td>\n",
              "      <td>1</td>\n",
              "      <td>329</td>\n",
              "      <td>4</td>\n",
              "      <td>1</td>\n",
              "      <td>158</td>\n",
              "    </tr>\n",
              "    <tr>\n",
              "      <th>7</th>\n",
              "      <td>Air New Zealand*</td>\n",
              "      <td>710174817</td>\n",
              "      <td>3</td>\n",
              "      <td>0</td>\n",
              "      <td>0</td>\n",
              "      <td>5</td>\n",
              "      <td>1</td>\n",
              "      <td>7</td>\n",
              "    </tr>\n",
              "    <tr>\n",
              "      <th>8</th>\n",
              "      <td>Alaska Airlines*</td>\n",
              "      <td>965346773</td>\n",
              "      <td>5</td>\n",
              "      <td>0</td>\n",
              "      <td>0</td>\n",
              "      <td>5</td>\n",
              "      <td>1</td>\n",
              "      <td>88</td>\n",
              "    </tr>\n",
              "    <tr>\n",
              "      <th>9</th>\n",
              "      <td>Alitalia</td>\n",
              "      <td>698012498</td>\n",
              "      <td>7</td>\n",
              "      <td>2</td>\n",
              "      <td>50</td>\n",
              "      <td>4</td>\n",
              "      <td>0</td>\n",
              "      <td>0</td>\n",
              "    </tr>\n",
              "    <tr>\n",
              "      <th>10</th>\n",
              "      <td>All Nippon Airways</td>\n",
              "      <td>1841234177</td>\n",
              "      <td>3</td>\n",
              "      <td>1</td>\n",
              "      <td>1</td>\n",
              "      <td>7</td>\n",
              "      <td>0</td>\n",
              "      <td>0</td>\n",
              "    </tr>\n",
              "    <tr>\n",
              "      <th>11</th>\n",
              "      <td>American*</td>\n",
              "      <td>5228357340</td>\n",
              "      <td>21</td>\n",
              "      <td>5</td>\n",
              "      <td>101</td>\n",
              "      <td>17</td>\n",
              "      <td>3</td>\n",
              "      <td>416</td>\n",
              "    </tr>\n",
              "    <tr>\n",
              "      <th>12</th>\n",
              "      <td>Austrian Airlines</td>\n",
              "      <td>358239823</td>\n",
              "      <td>1</td>\n",
              "      <td>0</td>\n",
              "      <td>0</td>\n",
              "      <td>1</td>\n",
              "      <td>0</td>\n",
              "      <td>0</td>\n",
              "    </tr>\n",
              "    <tr>\n",
              "      <th>13</th>\n",
              "      <td>Avianca</td>\n",
              "      <td>396922563</td>\n",
              "      <td>5</td>\n",
              "      <td>3</td>\n",
              "      <td>323</td>\n",
              "      <td>0</td>\n",
              "      <td>0</td>\n",
              "      <td>0</td>\n",
              "    </tr>\n",
              "    <tr>\n",
              "      <th>14</th>\n",
              "      <td>British Airways*</td>\n",
              "      <td>3179760952</td>\n",
              "      <td>4</td>\n",
              "      <td>0</td>\n",
              "      <td>0</td>\n",
              "      <td>6</td>\n",
              "      <td>0</td>\n",
              "      <td>0</td>\n",
              "    </tr>\n",
              "    <tr>\n",
              "      <th>15</th>\n",
              "      <td>Cathay Pacific*</td>\n",
              "      <td>2582459303</td>\n",
              "      <td>0</td>\n",
              "      <td>0</td>\n",
              "      <td>0</td>\n",
              "      <td>2</td>\n",
              "      <td>0</td>\n",
              "      <td>0</td>\n",
              "    </tr>\n",
              "    <tr>\n",
              "      <th>16</th>\n",
              "      <td>China Airlines</td>\n",
              "      <td>813216487</td>\n",
              "      <td>12</td>\n",
              "      <td>6</td>\n",
              "      <td>535</td>\n",
              "      <td>2</td>\n",
              "      <td>1</td>\n",
              "      <td>225</td>\n",
              "    </tr>\n",
              "    <tr>\n",
              "      <th>17</th>\n",
              "      <td>Condor</td>\n",
              "      <td>417982610</td>\n",
              "      <td>2</td>\n",
              "      <td>1</td>\n",
              "      <td>16</td>\n",
              "      <td>0</td>\n",
              "      <td>0</td>\n",
              "      <td>0</td>\n",
              "    </tr>\n",
              "    <tr>\n",
              "      <th>18</th>\n",
              "      <td>COPA</td>\n",
              "      <td>550491507</td>\n",
              "      <td>3</td>\n",
              "      <td>1</td>\n",
              "      <td>47</td>\n",
              "      <td>0</td>\n",
              "      <td>0</td>\n",
              "      <td>0</td>\n",
              "    </tr>\n",
              "    <tr>\n",
              "      <th>19</th>\n",
              "      <td>Delta / Northwest*</td>\n",
              "      <td>6525658894</td>\n",
              "      <td>24</td>\n",
              "      <td>12</td>\n",
              "      <td>407</td>\n",
              "      <td>24</td>\n",
              "      <td>2</td>\n",
              "      <td>51</td>\n",
              "    </tr>\n",
              "    <tr>\n",
              "      <th>20</th>\n",
              "      <td>Egyptair</td>\n",
              "      <td>557699891</td>\n",
              "      <td>8</td>\n",
              "      <td>3</td>\n",
              "      <td>282</td>\n",
              "      <td>4</td>\n",
              "      <td>1</td>\n",
              "      <td>14</td>\n",
              "    </tr>\n",
              "    <tr>\n",
              "      <th>21</th>\n",
              "      <td>El Al</td>\n",
              "      <td>335448023</td>\n",
              "      <td>1</td>\n",
              "      <td>1</td>\n",
              "      <td>4</td>\n",
              "      <td>1</td>\n",
              "      <td>0</td>\n",
              "      <td>0</td>\n",
              "    </tr>\n",
              "    <tr>\n",
              "      <th>22</th>\n",
              "      <td>Ethiopian Airlines</td>\n",
              "      <td>488560643</td>\n",
              "      <td>25</td>\n",
              "      <td>5</td>\n",
              "      <td>167</td>\n",
              "      <td>5</td>\n",
              "      <td>2</td>\n",
              "      <td>92</td>\n",
              "    </tr>\n",
              "    <tr>\n",
              "      <th>23</th>\n",
              "      <td>Finnair</td>\n",
              "      <td>506464950</td>\n",
              "      <td>1</td>\n",
              "      <td>0</td>\n",
              "      <td>0</td>\n",
              "      <td>0</td>\n",
              "      <td>0</td>\n",
              "      <td>0</td>\n",
              "    </tr>\n",
              "    <tr>\n",
              "      <th>24</th>\n",
              "      <td>Garuda Indonesia</td>\n",
              "      <td>613356665</td>\n",
              "      <td>10</td>\n",
              "      <td>3</td>\n",
              "      <td>260</td>\n",
              "      <td>4</td>\n",
              "      <td>2</td>\n",
              "      <td>22</td>\n",
              "    </tr>\n",
              "    <tr>\n",
              "      <th>25</th>\n",
              "      <td>Gulf Air</td>\n",
              "      <td>301379762</td>\n",
              "      <td>1</td>\n",
              "      <td>0</td>\n",
              "      <td>0</td>\n",
              "      <td>3</td>\n",
              "      <td>1</td>\n",
              "      <td>143</td>\n",
              "    </tr>\n",
              "    <tr>\n",
              "      <th>26</th>\n",
              "      <td>Hawaiian Airlines</td>\n",
              "      <td>493877795</td>\n",
              "      <td>0</td>\n",
              "      <td>0</td>\n",
              "      <td>0</td>\n",
              "      <td>1</td>\n",
              "      <td>0</td>\n",
              "      <td>0</td>\n",
              "    </tr>\n",
              "    <tr>\n",
              "      <th>27</th>\n",
              "      <td>Iberia</td>\n",
              "      <td>1173203126</td>\n",
              "      <td>4</td>\n",
              "      <td>1</td>\n",
              "      <td>148</td>\n",
              "      <td>5</td>\n",
              "      <td>0</td>\n",
              "      <td>0</td>\n",
              "    </tr>\n",
              "    <tr>\n",
              "      <th>28</th>\n",
              "      <td>Japan Airlines</td>\n",
              "      <td>1574217531</td>\n",
              "      <td>3</td>\n",
              "      <td>1</td>\n",
              "      <td>520</td>\n",
              "      <td>0</td>\n",
              "      <td>0</td>\n",
              "      <td>0</td>\n",
              "    </tr>\n",
              "    <tr>\n",
              "      <th>29</th>\n",
              "      <td>Kenya Airways</td>\n",
              "      <td>277414794</td>\n",
              "      <td>2</td>\n",
              "      <td>0</td>\n",
              "      <td>0</td>\n",
              "      <td>2</td>\n",
              "      <td>2</td>\n",
              "      <td>283</td>\n",
              "    </tr>\n",
              "    <tr>\n",
              "      <th>30</th>\n",
              "      <td>KLM*</td>\n",
              "      <td>1874561773</td>\n",
              "      <td>7</td>\n",
              "      <td>1</td>\n",
              "      <td>3</td>\n",
              "      <td>1</td>\n",
              "      <td>0</td>\n",
              "      <td>0</td>\n",
              "    </tr>\n",
              "    <tr>\n",
              "      <th>31</th>\n",
              "      <td>Korean Air</td>\n",
              "      <td>1734522605</td>\n",
              "      <td>12</td>\n",
              "      <td>5</td>\n",
              "      <td>425</td>\n",
              "      <td>1</td>\n",
              "      <td>0</td>\n",
              "      <td>0</td>\n",
              "    </tr>\n",
              "    <tr>\n",
              "      <th>32</th>\n",
              "      <td>LAN Airlines</td>\n",
              "      <td>1001965891</td>\n",
              "      <td>3</td>\n",
              "      <td>2</td>\n",
              "      <td>21</td>\n",
              "      <td>0</td>\n",
              "      <td>0</td>\n",
              "      <td>0</td>\n",
              "    </tr>\n",
              "    <tr>\n",
              "      <th>33</th>\n",
              "      <td>Lufthansa*</td>\n",
              "      <td>3426529504</td>\n",
              "      <td>6</td>\n",
              "      <td>1</td>\n",
              "      <td>2</td>\n",
              "      <td>3</td>\n",
              "      <td>0</td>\n",
              "      <td>0</td>\n",
              "    </tr>\n",
              "    <tr>\n",
              "      <th>34</th>\n",
              "      <td>Malaysia Airlines</td>\n",
              "      <td>1039171244</td>\n",
              "      <td>3</td>\n",
              "      <td>1</td>\n",
              "      <td>34</td>\n",
              "      <td>3</td>\n",
              "      <td>2</td>\n",
              "      <td>537</td>\n",
              "    </tr>\n",
              "    <tr>\n",
              "      <th>35</th>\n",
              "      <td>Pakistan International</td>\n",
              "      <td>348563137</td>\n",
              "      <td>8</td>\n",
              "      <td>3</td>\n",
              "      <td>234</td>\n",
              "      <td>10</td>\n",
              "      <td>2</td>\n",
              "      <td>46</td>\n",
              "    </tr>\n",
              "    <tr>\n",
              "      <th>36</th>\n",
              "      <td>Philippine Airlines</td>\n",
              "      <td>413007158</td>\n",
              "      <td>7</td>\n",
              "      <td>4</td>\n",
              "      <td>74</td>\n",
              "      <td>2</td>\n",
              "      <td>1</td>\n",
              "      <td>1</td>\n",
              "    </tr>\n",
              "    <tr>\n",
              "      <th>37</th>\n",
              "      <td>Qantas*</td>\n",
              "      <td>1917428984</td>\n",
              "      <td>1</td>\n",
              "      <td>0</td>\n",
              "      <td>0</td>\n",
              "      <td>5</td>\n",
              "      <td>0</td>\n",
              "      <td>0</td>\n",
              "    </tr>\n",
              "    <tr>\n",
              "      <th>38</th>\n",
              "      <td>Royal Air Maroc</td>\n",
              "      <td>295705339</td>\n",
              "      <td>5</td>\n",
              "      <td>3</td>\n",
              "      <td>51</td>\n",
              "      <td>3</td>\n",
              "      <td>0</td>\n",
              "      <td>0</td>\n",
              "    </tr>\n",
              "    <tr>\n",
              "      <th>39</th>\n",
              "      <td>SAS*</td>\n",
              "      <td>682971852</td>\n",
              "      <td>5</td>\n",
              "      <td>0</td>\n",
              "      <td>0</td>\n",
              "      <td>6</td>\n",
              "      <td>1</td>\n",
              "      <td>110</td>\n",
              "    </tr>\n",
              "    <tr>\n",
              "      <th>40</th>\n",
              "      <td>Saudi Arabian</td>\n",
              "      <td>859673901</td>\n",
              "      <td>7</td>\n",
              "      <td>2</td>\n",
              "      <td>313</td>\n",
              "      <td>11</td>\n",
              "      <td>0</td>\n",
              "      <td>0</td>\n",
              "    </tr>\n",
              "    <tr>\n",
              "      <th>41</th>\n",
              "      <td>Singapore Airlines</td>\n",
              "      <td>2376857805</td>\n",
              "      <td>2</td>\n",
              "      <td>2</td>\n",
              "      <td>6</td>\n",
              "      <td>2</td>\n",
              "      <td>1</td>\n",
              "      <td>83</td>\n",
              "    </tr>\n",
              "    <tr>\n",
              "      <th>42</th>\n",
              "      <td>South African</td>\n",
              "      <td>651502442</td>\n",
              "      <td>2</td>\n",
              "      <td>1</td>\n",
              "      <td>159</td>\n",
              "      <td>1</td>\n",
              "      <td>0</td>\n",
              "      <td>0</td>\n",
              "    </tr>\n",
              "    <tr>\n",
              "      <th>43</th>\n",
              "      <td>Southwest Airlines</td>\n",
              "      <td>3276525770</td>\n",
              "      <td>1</td>\n",
              "      <td>0</td>\n",
              "      <td>0</td>\n",
              "      <td>8</td>\n",
              "      <td>0</td>\n",
              "      <td>0</td>\n",
              "    </tr>\n",
              "    <tr>\n",
              "      <th>44</th>\n",
              "      <td>Sri Lankan / AirLanka</td>\n",
              "      <td>325582976</td>\n",
              "      <td>2</td>\n",
              "      <td>1</td>\n",
              "      <td>14</td>\n",
              "      <td>4</td>\n",
              "      <td>0</td>\n",
              "      <td>0</td>\n",
              "    </tr>\n",
              "    <tr>\n",
              "      <th>45</th>\n",
              "      <td>SWISS*</td>\n",
              "      <td>792601299</td>\n",
              "      <td>2</td>\n",
              "      <td>1</td>\n",
              "      <td>229</td>\n",
              "      <td>3</td>\n",
              "      <td>0</td>\n",
              "      <td>0</td>\n",
              "    </tr>\n",
              "    <tr>\n",
              "      <th>46</th>\n",
              "      <td>TACA</td>\n",
              "      <td>259373346</td>\n",
              "      <td>3</td>\n",
              "      <td>1</td>\n",
              "      <td>3</td>\n",
              "      <td>1</td>\n",
              "      <td>1</td>\n",
              "      <td>3</td>\n",
              "    </tr>\n",
              "    <tr>\n",
              "      <th>47</th>\n",
              "      <td>TAM</td>\n",
              "      <td>1509195646</td>\n",
              "      <td>8</td>\n",
              "      <td>3</td>\n",
              "      <td>98</td>\n",
              "      <td>7</td>\n",
              "      <td>2</td>\n",
              "      <td>188</td>\n",
              "    </tr>\n",
              "    <tr>\n",
              "      <th>48</th>\n",
              "      <td>TAP - Air Portugal</td>\n",
              "      <td>619130754</td>\n",
              "      <td>0</td>\n",
              "      <td>0</td>\n",
              "      <td>0</td>\n",
              "      <td>0</td>\n",
              "      <td>0</td>\n",
              "      <td>0</td>\n",
              "    </tr>\n",
              "    <tr>\n",
              "      <th>49</th>\n",
              "      <td>Thai Airways</td>\n",
              "      <td>1702802250</td>\n",
              "      <td>8</td>\n",
              "      <td>4</td>\n",
              "      <td>308</td>\n",
              "      <td>2</td>\n",
              "      <td>1</td>\n",
              "      <td>1</td>\n",
              "    </tr>\n",
              "    <tr>\n",
              "      <th>50</th>\n",
              "      <td>Turkish Airlines</td>\n",
              "      <td>1946098294</td>\n",
              "      <td>8</td>\n",
              "      <td>3</td>\n",
              "      <td>64</td>\n",
              "      <td>8</td>\n",
              "      <td>2</td>\n",
              "      <td>84</td>\n",
              "    </tr>\n",
              "    <tr>\n",
              "      <th>51</th>\n",
              "      <td>United / Continental*</td>\n",
              "      <td>7139291291</td>\n",
              "      <td>19</td>\n",
              "      <td>8</td>\n",
              "      <td>319</td>\n",
              "      <td>14</td>\n",
              "      <td>2</td>\n",
              "      <td>109</td>\n",
              "    </tr>\n",
              "    <tr>\n",
              "      <th>52</th>\n",
              "      <td>US Airways / America West*</td>\n",
              "      <td>2455687887</td>\n",
              "      <td>16</td>\n",
              "      <td>7</td>\n",
              "      <td>224</td>\n",
              "      <td>11</td>\n",
              "      <td>2</td>\n",
              "      <td>23</td>\n",
              "    </tr>\n",
              "    <tr>\n",
              "      <th>53</th>\n",
              "      <td>Vietnam Airlines</td>\n",
              "      <td>625084918</td>\n",
              "      <td>7</td>\n",
              "      <td>3</td>\n",
              "      <td>171</td>\n",
              "      <td>1</td>\n",
              "      <td>0</td>\n",
              "      <td>0</td>\n",
              "    </tr>\n",
              "    <tr>\n",
              "      <th>54</th>\n",
              "      <td>Virgin Atlantic</td>\n",
              "      <td>1005248585</td>\n",
              "      <td>1</td>\n",
              "      <td>0</td>\n",
              "      <td>0</td>\n",
              "      <td>0</td>\n",
              "      <td>0</td>\n",
              "      <td>0</td>\n",
              "    </tr>\n",
              "    <tr>\n",
              "      <th>55</th>\n",
              "      <td>Xiamen Airlines</td>\n",
              "      <td>430462962</td>\n",
              "      <td>9</td>\n",
              "      <td>1</td>\n",
              "      <td>82</td>\n",
              "      <td>2</td>\n",
              "      <td>0</td>\n",
              "      <td>0</td>\n",
              "    </tr>\n",
              "  </tbody>\n",
              "</table>\n",
              "</div>"
            ],
            "text/plain": [
              "                       airline  ...  fatalities_00_14\n",
              "0                   Aer Lingus  ...                 0\n",
              "1                    Aeroflot*  ...                88\n",
              "2        Aerolineas Argentinas  ...                 0\n",
              "3                  Aeromexico*  ...                 0\n",
              "4                   Air Canada  ...                 0\n",
              "5                   Air France  ...               337\n",
              "6                   Air India*  ...               158\n",
              "7             Air New Zealand*  ...                 7\n",
              "8             Alaska Airlines*  ...                88\n",
              "9                     Alitalia  ...                 0\n",
              "10          All Nippon Airways  ...                 0\n",
              "11                   American*  ...               416\n",
              "12           Austrian Airlines  ...                 0\n",
              "13                     Avianca  ...                 0\n",
              "14            British Airways*  ...                 0\n",
              "15             Cathay Pacific*  ...                 0\n",
              "16              China Airlines  ...               225\n",
              "17                      Condor  ...                 0\n",
              "18                        COPA  ...                 0\n",
              "19          Delta / Northwest*  ...                51\n",
              "20                    Egyptair  ...                14\n",
              "21                       El Al  ...                 0\n",
              "22          Ethiopian Airlines  ...                92\n",
              "23                     Finnair  ...                 0\n",
              "24            Garuda Indonesia  ...                22\n",
              "25                    Gulf Air  ...               143\n",
              "26           Hawaiian Airlines  ...                 0\n",
              "27                      Iberia  ...                 0\n",
              "28              Japan Airlines  ...                 0\n",
              "29               Kenya Airways  ...               283\n",
              "30                        KLM*  ...                 0\n",
              "31                  Korean Air  ...                 0\n",
              "32                LAN Airlines  ...                 0\n",
              "33                  Lufthansa*  ...                 0\n",
              "34           Malaysia Airlines  ...               537\n",
              "35      Pakistan International  ...                46\n",
              "36         Philippine Airlines  ...                 1\n",
              "37                     Qantas*  ...                 0\n",
              "38             Royal Air Maroc  ...                 0\n",
              "39                        SAS*  ...               110\n",
              "40               Saudi Arabian  ...                 0\n",
              "41          Singapore Airlines  ...                83\n",
              "42               South African  ...                 0\n",
              "43          Southwest Airlines  ...                 0\n",
              "44       Sri Lankan / AirLanka  ...                 0\n",
              "45                      SWISS*  ...                 0\n",
              "46                        TACA  ...                 3\n",
              "47                         TAM  ...               188\n",
              "48          TAP - Air Portugal  ...                 0\n",
              "49                Thai Airways  ...                 1\n",
              "50            Turkish Airlines  ...                84\n",
              "51       United / Continental*  ...               109\n",
              "52  US Airways / America West*  ...                23\n",
              "53            Vietnam Airlines  ...                 0\n",
              "54             Virgin Atlantic  ...                 0\n",
              "55             Xiamen Airlines  ...                 0\n",
              "\n",
              "[56 rows x 8 columns]"
            ]
          },
          "metadata": {},
          "execution_count": 21
        }
      ]
    },
    {
      "cell_type": "code",
      "metadata": {
        "id": "UvrO_AM51vfE",
        "colab": {
          "base_uri": "https://localhost:8080/",
          "height": 307
        },
        "outputId": "13685a24-f46a-4957-bd9b-bfc1243a9fdd"
      },
      "source": [
        "plt.plot(df.airline, df.avail_seat_km_per_week, '+')\n",
        "plt.xlabel('airline')\n",
        "plt.ylabel('avail_seat_km_per_week')\n",
        "plt.show"
      ],
      "execution_count": 22,
      "outputs": [
        {
          "output_type": "execute_result",
          "data": {
            "text/plain": [
              "<function matplotlib.pyplot.show>"
            ]
          },
          "metadata": {},
          "execution_count": 22
        },
        {
          "output_type": "display_data",
          "data": {
            "image/png": "[encoded data removed]",
            "text/plain": [
              "<Figure size 432x288 with 1 Axes>"
            ]
          },
          "metadata": {
            "needs_background": "light"
          }
        }
      ]
    },
    {
      "cell_type": "code",
      "metadata": {
        "id": "1s_X4L6l2VO1",
        "colab": {
          "base_uri": "https://localhost:8080/",
          "height": 296
        },
        "outputId": "6ac7c6af-609d-484c-b715-4b97815a2df3"
      },
      "source": [
        "plt.plot(df.airline, df.incidents_85_99,'*')\n",
        "plt.xlabel('Airline')\n",
        "plt.ylabel('fatalities_00_14')\n",
        "plt.show"
      ],
      "execution_count": 23,
      "outputs": [
        {
          "output_type": "execute_result",
          "data": {
            "text/plain": [
              "<function matplotlib.pyplot.show>"
            ]
          },
          "metadata": {},
          "execution_count": 23
        },
        {
          "output_type": "display_data",
          "data": {
            "image/png": "[encoded data removed]",
            "text/plain": [
              "<Figure size 432x288 with 1 Axes>"
            ]
          },
          "metadata": {
            "needs_background": "light"
          }
        }
      ]
    },
    {
      "cell_type": "code",
      "metadata": {
        "id": "xOSzuJ7nbsB5",
        "colab": {
          "base_uri": "https://localhost:8080/",
          "height": 296
        },
        "outputId": "aa54677c-71ec-4151-cffd-9005957c21a8"
      },
      "source": [
        "plt.plot(df.airline, df.fatal_accidents_85_99,'*')\n",
        "plt.xlabel('Airline')\n",
        "plt.ylabel('fatal_accidents_85_99')\n",
        "plt.show"
      ],
      "execution_count": 24,
      "outputs": [
        {
          "output_type": "execute_result",
          "data": {
            "text/plain": [
              "<function matplotlib.pyplot.show>"
            ]
          },
          "metadata": {},
          "execution_count": 24
        },
        {
          "output_type": "display_data",
          "data": {
            "image/png": "[encoded data removed]",
            "text/plain": [
              "<Figure size 432x288 with 1 Axes>"
            ]
          },
          "metadata": {
            "needs_background": "light"
          }
        }
      ]
    },
    {
      "cell_type": "code",
      "metadata": {
        "id": "uvjDJ7ugcYLe",
        "colab": {
          "base_uri": "https://localhost:8080/",
          "height": 296
        },
        "outputId": "3b8d6a30-cb86-4bdc-ae19-6725e038b7d6"
      },
      "source": [
        "plt.plot(df.airline, df.fatalities_85_99,'*')\n",
        "plt.xlabel('Airline')\n",
        "plt.ylabel('fatalities_85_99')\n",
        "plt.show"
      ],
      "execution_count": 25,
      "outputs": [
        {
          "output_type": "execute_result",
          "data": {
            "text/plain": [
              "<function matplotlib.pyplot.show>"
            ]
          },
          "metadata": {},
          "execution_count": 25
        },
        {
          "output_type": "display_data",
          "data": {
            "image/png": "[encoded data removed]",
            "text/plain": [
              "<Figure size 432x288 with 1 Axes>"
            ]
          },
          "metadata": {
            "needs_background": "light"
          }
        }
      ]
    },
    {
      "cell_type": "code",
      "metadata": {
        "id": "T0znIL70co2g",
        "colab": {
          "base_uri": "https://localhost:8080/",
          "height": 299
        },
        "outputId": "3a5d8106-bcd8-41c1-dffa-b2dce8681a52"
      },
      "source": [
        "plt.plot(df.airline, df.incidents_00_14,'*')\n",
        "plt.xlabel('Airline')\n",
        "plt.ylabel('incidents_00_14')\n",
        "plt.show"
      ],
      "execution_count": 26,
      "outputs": [
        {
          "output_type": "execute_result",
          "data": {
            "text/plain": [
              "<function matplotlib.pyplot.show>"
            ]
          },
          "metadata": {},
          "execution_count": 26
        },
        {
          "output_type": "display_data",
          "data": {
            "image/png": "[encoded data removed]",
            "text/plain": [
              "<Figure size 432x288 with 1 Axes>"
            ]
          },
          "metadata": {
            "needs_background": "light"
          }
        }
      ]
    },
    {
      "cell_type": "code",
      "metadata": {
        "id": "qFsRJyy2jIZ0",
        "colab": {
          "base_uri": "https://localhost:8080/",
          "height": 296
        },
        "outputId": "c5d9a88e-9e14-4d3f-ae7b-7b92a40459f9"
      },
      "source": [
        "plt.plot(df.airline, df.fatal_accidents_00_14,'*')\n",
        "plt.xlabel('Airline')\n",
        "plt.ylabel('fatal_accidents_00_14')\n",
        "plt.show"
      ],
      "execution_count": 27,
      "outputs": [
        {
          "output_type": "execute_result",
          "data": {
            "text/plain": [
              "<function matplotlib.pyplot.show>"
            ]
          },
          "metadata": {},
          "execution_count": 27
        },
        {
          "output_type": "display_data",
          "data": {
            "image/png": "[encoded data removed]",
            "text/plain": [
              "<Figure size 432x288 with 1 Axes>"
            ]
          },
          "metadata": {
            "needs_background": "light"
          }
        }
      ]
    },
    {
      "cell_type": "code",
      "metadata": {
        "id": "bicLhufZjNRM",
        "colab": {
          "base_uri": "https://localhost:8080/",
          "height": 296
        },
        "outputId": "2216a414-f99f-4470-dabd-e4d3e6327ba0"
      },
      "source": [
        "plt.plot(df.airline, df.fatalities_00_14,'*')\n",
        "plt.xlabel('Airline')\n",
        "plt.ylabel('fatalities_00_14')\n",
        "plt.show"
      ],
      "execution_count": 28,
      "outputs": [
        {
          "output_type": "execute_result",
          "data": {
            "text/plain": [
              "<function matplotlib.pyplot.show>"
            ]
          },
          "metadata": {},
          "execution_count": 28
        },
        {
          "output_type": "display_data",
          "data": {
            "image/png": "[encoded data removed]",
            "text/plain": [
              "<Figure size 432x288 with 1 Axes>"
            ]
          },
          "metadata": {
            "needs_background": "light"
          }
        }
      ]
    },
    {
      "cell_type": "code",
      "metadata": {
        "colab": {
          "base_uri": "https://localhost:8080/",
          "height": 281
        },
        "id": "AsTtbWKGWhyB",
        "outputId": "59f8a923-2244-47b7-d244-a83d3020ac1c"
      },
      "source": [
        "df.drop([0, 1]).hist()\n",
        "plt.show()"
      ],
      "execution_count": 29,
      "outputs": [
        {
          "output_type": "display_data",
          "data": {
            "image/png": "[encoded data removed]",
            "text/plain": [
              "<Figure size 432x288 with 9 Axes>"
            ]
          },
          "metadata": {
            "needs_background": "light"
          }
        }
      ]
    },
    {
      "cell_type": "code",
      "metadata": {
        "id": "UMfa_cdGZyFp"
      },
      "source": [
        "import seaborn as sb\n",
        "import numpy as np; np.random.seed(0)\n",
        "from matplotlib import cm"
      ],
      "execution_count": 30,
      "outputs": []
    },
    {
      "cell_type": "code",
      "metadata": {
        "colab": {
          "base_uri": "https://localhost:8080/",
          "height": 265
        },
        "id": "hZmx6pFyZORe",
        "outputId": "6648b3f3-22bc-4dbc-830f-6024c112e2d0"
      },
      "source": [
        "normal_data = np.random.randn(20, 35)\n",
        "ax = sb.heatmap(normal_data, center=2)"
      ],
      "execution_count": 31,
      "outputs": [
        {
          "output_type": "display_data",
          "data": {
            "image/png": "[encoded data removed]",
            "text/plain": [
              "<Figure size 432x288 with 2 Axes>"
            ]
          },
          "metadata": {
            "needs_background": "light"
          }
        }
      ]
    }
  ]
}