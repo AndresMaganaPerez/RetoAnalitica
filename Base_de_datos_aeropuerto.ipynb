{
  "nbformat": 4,
  "nbformat_minor": 0,
  "metadata": {
    "colab": {
      "name": "Base_de_datos_aeropuerto",
      "provenance": [],
      "collapsed_sections": []
    },
    "kernelspec": {
      "display_name": "Python 3",
      "name": "python3"
    },
    "language_info": {
      "name": "python"
    }
  },
  "cells": [
    {
      "cell_type": "code",
      "metadata": {
        "id": "br0ZX6JKRhqB"
      },
      "source": [
        "import pandas as pd\n",
        "import lxml"
      ],
      "execution_count": null,
      "outputs": []
    },
    {
      "cell_type": "code",
      "metadata": {
        "colab": {
          "base_uri": "https://localhost:8080/",
          "height": 430
        },
        "id": "q40aQ7lQS7Pg",
        "outputId": "870a0712-0e4f-4a22-9d16-6d6b7a2f1efa"
      },
      "source": [
        "df = pd.read_csv('airline-safety.csv')\n",
        "df[:10]"
      ],
      "execution_count": null,
      "outputs": [
        {
          "output_type": "execute_result",
          "data": {
            "text/html": [
              "<div>\n",
              "<style scoped>\n",
              "    .dataframe tbody tr th:only-of-type {\n",
              "        vertical-align: middle;\n",
              "    }\n",
              "\n",
              "    .dataframe tbody tr th {\n",
              "        vertical-align: top;\n",
              "    }\n",
              "\n",
              "    .dataframe thead th {\n",
              "        text-align: right;\n",
              "    }\n",
              "</style>\n",
              "<table border=\"1\" class=\"dataframe\">\n",
              "  <thead>\n",
              "    <tr style=\"text-align: right;\">\n",
              "      <th></th>\n",
              "      <th>airline</th>\n",
              "      <th>avail_seat_km_per_week</th>\n",
              "      <th>incidents_85_99</th>\n",
              "      <th>fatal_accidents_85_99</th>\n",
              "      <th>fatalities_85_99</th>\n",
              "      <th>incidents_00_14</th>\n",
              "      <th>fatal_accidents_00_14</th>\n",
              "      <th>fatalities_00_14</th>\n",
              "    </tr>\n",
              "  </thead>\n",
              "  <tbody>\n",
              "    <tr>\n",
              "      <th>0</th>\n",
              "      <td>Aer Lingus</td>\n",
              "      <td>320906734</td>\n",
              "      <td>2</td>\n",
              "      <td>0</td>\n",
              "      <td>0</td>\n",
              "      <td>0</td>\n",
              "      <td>0</td>\n",
              "      <td>0</td>\n",
              "    </tr>\n",
              "    <tr>\n",
              "      <th>1</th>\n",
              "      <td>Aeroflot*</td>\n",
              "      <td>1197672318</td>\n",
              "      <td>76</td>\n",
              "      <td>14</td>\n",
              "      <td>128</td>\n",
              "      <td>6</td>\n",
              "      <td>1</td>\n",
              "      <td>88</td>\n",
              "    </tr>\n",
              "    <tr>\n",
              "      <th>2</th>\n",
              "      <td>Aerolineas Argentinas</td>\n",
              "      <td>385803648</td>\n",
              "      <td>6</td>\n",
              "      <td>0</td>\n",
              "      <td>0</td>\n",
              "      <td>1</td>\n",
              "      <td>0</td>\n",
              "      <td>0</td>\n",
              "    </tr>\n",
              "    <tr>\n",
              "      <th>3</th>\n",
              "      <td>Aeromexico*</td>\n",
              "      <td>596871813</td>\n",
              "      <td>3</td>\n",
              "      <td>1</td>\n",
              "      <td>64</td>\n",
              "      <td>5</td>\n",
              "      <td>0</td>\n",
              "      <td>0</td>\n",
              "    </tr>\n",
              "    <tr>\n",
              "      <th>4</th>\n",
              "      <td>Air Canada</td>\n",
              "      <td>1865253802</td>\n",
              "      <td>2</td>\n",
              "      <td>0</td>\n",
              "      <td>0</td>\n",
              "      <td>2</td>\n",
              "      <td>0</td>\n",
              "      <td>0</td>\n",
              "    </tr>\n",
              "    <tr>\n",
              "      <th>5</th>\n",
              "      <td>Air France</td>\n",
              "      <td>3004002661</td>\n",
              "      <td>14</td>\n",
              "      <td>4</td>\n",
              "      <td>79</td>\n",
              "      <td>6</td>\n",
              "      <td>2</td>\n",
              "      <td>337</td>\n",
              "    </tr>\n",
              "    <tr>\n",
              "      <th>6</th>\n",
              "      <td>Air India*</td>\n",
              "      <td>869253552</td>\n",
              "      <td>2</td>\n",
              "      <td>1</td>\n",
              "      <td>329</td>\n",
              "      <td>4</td>\n",
              "      <td>1</td>\n",
              "      <td>158</td>\n",
              "    </tr>\n",
              "    <tr>\n",
              "      <th>7</th>\n",
              "      <td>Air New Zealand*</td>\n",
              "      <td>710174817</td>\n",
              "      <td>3</td>\n",
              "      <td>0</td>\n",
              "      <td>0</td>\n",
              "      <td>5</td>\n",
              "      <td>1</td>\n",
              "      <td>7</td>\n",
              "    </tr>\n",
              "    <tr>\n",
              "      <th>8</th>\n",
              "      <td>Alaska Airlines*</td>\n",
              "      <td>965346773</td>\n",
              "      <td>5</td>\n",
              "      <td>0</td>\n",
              "      <td>0</td>\n",
              "      <td>5</td>\n",
              "      <td>1</td>\n",
              "      <td>88</td>\n",
              "    </tr>\n",
              "    <tr>\n",
              "      <th>9</th>\n",
              "      <td>Alitalia</td>\n",
              "      <td>698012498</td>\n",
              "      <td>7</td>\n",
              "      <td>2</td>\n",
              "      <td>50</td>\n",
              "      <td>4</td>\n",
              "      <td>0</td>\n",
              "      <td>0</td>\n",
              "    </tr>\n",
              "  </tbody>\n",
              "</table>\n",
              "</div>"
            ],
            "text/plain": [
              "                 airline  ...  fatalities_00_14\n",
              "0             Aer Lingus  ...                 0\n",
              "1              Aeroflot*  ...                88\n",
              "2  Aerolineas Argentinas  ...                 0\n",
              "3            Aeromexico*  ...                 0\n",
              "4             Air Canada  ...                 0\n",
              "5             Air France  ...               337\n",
              "6             Air India*  ...               158\n",
              "7       Air New Zealand*  ...                 7\n",
              "8       Alaska Airlines*  ...                88\n",
              "9               Alitalia  ...                 0\n",
              "\n",
              "[10 rows x 8 columns]"
            ]
          },
          "metadata": {},
          "execution_count": 26
        }
      ]
    },
    {
      "cell_type": "code",
      "metadata": {
        "colab": {
          "base_uri": "https://localhost:8080/"
        },
        "id": "H1Po3mzxURXe",
        "outputId": "4cab80f4-9428-49d8-a541-b02e00d094f9"
      },
      "source": [
        "print ('Media: ', df['incidents_85_99'].mean())"
      ],
      "execution_count": null,
      "outputs": [
        {
          "output_type": "stream",
          "name": "stdout",
          "text": [
            "Media:  7.178571428571429\n"
          ]
        }
      ]
    },
    {
      "cell_type": "code",
      "metadata": {
        "colab": {
          "base_uri": "https://localhost:8080/"
        },
        "id": "1_SqopV2U7jn",
        "outputId": "686a665c-8c0a-4a17-d80d-7cd35d2bb888"
      },
      "source": [
        "sorted = df['incidents_85_99'].sort_values(ascending = True)\n",
        "p = 3\n",
        "acum = 0\n",
        "for i in range (p, len(sorted)-p):\n",
        "    if not pd.isna(sorted[i]):\n",
        "        acum = acum+sorted[i]\n",
        "result = acum / (len(sorted) - (2 * p))\n",
        "print ('Media recortada (p=3): ', result)"
      ],
      "execution_count": null,
      "outputs": [
        {
          "output_type": "stream",
          "name": "stdout",
          "text": [
            "Media recortada (p=3):  6.02\n"
          ]
        }
      ]
    },
    {
      "cell_type": "code",
      "metadata": {
        "id": "zKvlymZzU9xd"
      },
      "source": [
        "import random\n",
        "weights = [random.random() for i in range(len(sorted))]"
      ],
      "execution_count": null,
      "outputs": []
    },
    {
      "cell_type": "code",
      "metadata": {
        "id": "k4cuIUn0VBrD"
      },
      "source": [
        "vals = 0\n",
        "ws = 0\n",
        "for i in range (len(sorted)):\n",
        "    if not pd.isna(sorted[i]):\n",
        "        vals = vals + (sorted[i]* weights[i])\n",
        "        ws = ws + weights[i]\n",
        "result = vals/ws\n",
        "print ('Mediaponderada: ', result)"
      ],
      "execution_count": null,
      "outputs": []
    },
    {
      "cell_type": "code",
      "metadata": {
        "colab": {
          "base_uri": "https://localhost:8080/"
        },
        "id": "-qfQvgZaVFjz",
        "outputId": "3ece92ff-95f1-4034-8f82-640e90a53e74"
      },
      "source": [
        "print('Mediana: ', df['incidents_85_99'].median())"
      ],
      "execution_count": null,
      "outputs": [
        {
          "output_type": "stream",
          "name": "stdout",
          "text": [
            "Mediana:  4.0\n"
          ]
        }
      ]
    },
    {
      "cell_type": "code",
      "metadata": {
        "colab": {
          "base_uri": "https://localhost:8080/"
        },
        "id": "CXhk0iiVVLLy",
        "outputId": "5a3df80c-553d-4c78-effc-ea5d2246badc"
      },
      "source": [
        "print('Desviacion estandar: ', df['incidents_85_99'].std())"
      ],
      "execution_count": null,
      "outputs": [
        {
          "output_type": "stream",
          "name": "stdout",
          "text": [
            "Desviacion estandar:  11.035656495456639\n"
          ]
        }
      ]
    },
    {
      "cell_type": "code",
      "metadata": {
        "colab": {
          "base_uri": "https://localhost:8080/"
        },
        "id": "jtPJ4Bc8VM9f",
        "outputId": "224b3477-a2df-442a-880b-2b045aab285a"
      },
      "source": [
        "print('Varianza: ', df['incidents_85_99'].var())"
      ],
      "execution_count": null,
      "outputs": [
        {
          "output_type": "stream",
          "name": "stdout",
          "text": [
            "Varianza:  121.78571428571429\n"
          ]
        }
      ]
    },
    {
      "cell_type": "code",
      "metadata": {
        "id": "Hvz6xvWcVUEv",
        "colab": {
          "base_uri": "https://localhost:8080/"
        },
        "outputId": "0001b4a7-4017-40fb-d84b-64f72c332b07"
      },
      "source": [
        "print('Desviacion absoluta mediana: ', df['incidents_85_99'].mad())"
      ],
      "execution_count": null,
      "outputs": [
        {
          "output_type": "stream",
          "name": "stdout",
          "text": [
            "Desviacion absoluta mediana:  5.8265306122448965\n"
          ]
        }
      ]
    },
    {
      "cell_type": "code",
      "metadata": {
        "id": "pqTftstEVZMh",
        "colab": {
          "base_uri": "https://localhost:8080/"
        },
        "outputId": "b270653b-c09b-4592-c371-639027ee29cb"
      },
      "source": [
        "df['incidents_85_99'].quantile([0.25, 0.50, 0.75, 1])"
      ],
      "execution_count": null,
      "outputs": [
        {
          "output_type": "execute_result",
          "data": {
            "text/plain": [
              "0.25     2.0\n",
              "0.50     4.0\n",
              "0.75     8.0\n",
              "1.00    76.0\n",
              "Name: incidents_85_99, dtype: float64"
            ]
          },
          "metadata": {},
          "execution_count": 12
        }
      ]
    }
  ]
}