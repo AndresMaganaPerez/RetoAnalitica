{
  "nbformat": 4,
  "nbformat_minor": 5,
  "metadata": {
    "kernelspec": {
      "display_name": "Python 3 (ipykernel)",
      "language": "python",
      "name": "python3"
    },
    "language_info": {
      "codemirror_mode": {
        "name": "ipython",
        "version": 3
      },
      "file_extension": ".py",
      "mimetype": "text/x-python",
      "name": "python",
      "nbconvert_exporter": "python",
      "pygments_lexer": "ipython3",
      "version": "3.8.11"
    },
    "colab": {
      "name": "KMeans_equipo5.ipynb",
      "provenance": []
    }
  },
  "cells": [
    {
      "cell_type": "code",
      "metadata": {
        "id": "71ebb675"
      },
      "source": [
        "import pandas as pd\n",
        "import numpy as np\n",
        "import matplotlib.pyplot as plt\n",
        "import sklearn\n",
        "from sklearn.cluster import KMeans\n",
        "from mpl_toolkits.mplot3d import Axes3D\n",
        "from sklearn.preprocessing import scale\n",
        "import sklearn.metrics as sm\n",
        "from sklearn import datasets\n",
        "from sklearn.metrics import confusion_matrix, classification_report\n",
        "\n",
        "plt.rcParams['figure.figsize'] = (16, 9)"
      ],
      "id": "71ebb675",
      "execution_count": 2,
      "outputs": []
    },
    {
      "cell_type": "code",
      "metadata": {
        "id": "ae763655",
        "colab": {
          "base_uri": "https://localhost:8080/"
        },
        "outputId": "6da11d96-f87b-4522-bbf0-067b8819dd03"
      },
      "source": [
        "df = pd.read_csv('airline-safety.csv')\n",
        "df_num = df.drop(['airline'], axis=1)\n",
        "X = scale(df_num)\n",
        "X"
      ],
      "id": "ae763655",
      "execution_count": 8,
      "outputs": [
        {
          "output_type": "stream",
          "name": "stderr",
          "text": [
            "/usr/local/lib/python3.7/dist-packages/sklearn/preprocessing/_data.py:173: UserWarning: Numerical issues were encountered when centering the data and might not be solved. Dataset may contain too large values. You may need to prescale your features.\n",
            "  warnings.warn(\"Numerical issues were encountered \"\n"
          ]
        },
        {
          "output_type": "execute_result",
          "data": {
            "text/plain": [
              "array([[-0.73249762, -0.47350489, -0.76834484, -0.77324402, -0.915809  ,\n",
              "        -0.77641364, -0.5031789 ],\n",
              "       [-0.12873725,  6.29271667,  4.16921547,  0.10723464,  0.41627682,\n",
              "         0.3986989 ,  0.29439769],\n",
              "       [-0.68780816, -0.10776318, -0.76834484, -0.77324402, -0.6937947 ,\n",
              "        -0.77641364, -0.5031789 ],\n",
              "       [-0.5424619 , -0.38206946, -0.41566196, -0.33300469,  0.19426252,\n",
              "        -0.77641364, -0.5031789 ],\n",
              "       [ 0.33097428, -0.47350489, -0.76834484, -0.77324402, -0.4717804 ,\n",
              "        -0.77641364, -0.5031789 ],\n",
              "       [ 1.11514219,  0.62372023,  0.64238667, -0.2298236 ,  0.41627682,\n",
              "         1.57381143,  2.55117691],\n",
              "       [-0.35489375, -0.47350489, -0.41566196,  1.48986128, -0.02775179,\n",
              "         0.3986989 ,  0.92883362],\n",
              "       [-0.46443892, -0.38206946, -0.76834484, -0.77324402,  0.19426252,\n",
              "         0.3986989 , -0.43973531],\n",
              "       [-0.28872181, -0.19919861, -0.76834484, -0.77324402,  0.19426252,\n",
              "         0.3986989 ,  0.29439769],\n",
              "       [-0.47281417, -0.01632775, -0.06297909, -0.42930705, -0.02775179,\n",
              "        -0.77641364, -0.5031789 ],\n",
              "       [ 0.31443383, -0.38206946, -0.41566196, -0.76636528,  0.63829112,\n",
              "        -0.77641364, -0.5031789 ],\n",
              "       [ 2.64688253,  1.26376822,  0.99506955, -0.07849133,  2.85843416,\n",
              "         2.74892397,  3.26718317],\n",
              "       [-0.70678922, -0.56494031, -0.76834484, -0.77324402, -0.6937947 ,\n",
              "        -0.77641364, -0.5031789 ],\n",
              "       [-0.68015142, -0.19919861,  0.28970379,  1.44858884, -0.915809  ,\n",
              "        -0.77641364, -0.5031789 ],\n",
              "       [ 1.23617328, -0.29063403, -0.76834484, -0.77324402,  0.41627682,\n",
              "        -0.77641364, -0.5031789 ],\n",
              "       [ 0.82485801, -0.65637574, -0.76834484, -0.77324402, -0.4717804 ,\n",
              "        -0.77641364, -0.5031789 ],\n",
              "       [-0.39348213,  0.44084938,  1.34775243,  2.90688162, -0.4717804 ,\n",
              "         0.3986989 ,  1.53607943],\n",
              "       [-0.66564901, -0.47350489, -0.41566196, -0.66318419, -0.915809  ,\n",
              "        -0.77641364, -0.5031789 ],\n",
              "       [-0.57440042, -0.38206946, -0.41566196, -0.44994326, -0.915809  ,\n",
              "        -0.77641364, -0.5031789 ],\n",
              "       [ 3.54023337,  1.5380745 ,  3.46384971,  2.02640296,  4.41253428,\n",
              "         1.57381143, -0.04094701],\n",
              "       [-0.56943656,  0.07510767,  0.28970379,  1.16656052, -0.02775179,\n",
              "         0.3986989 , -0.37629172],\n",
              "       [-0.72248417, -0.56494031, -0.41566196, -0.74572906, -0.6937947 ,\n",
              "        -0.77641364, -0.5031789 ],\n",
              "       [-0.6170474 ,  1.62950992,  0.99506955,  0.37550548,  0.19426252,\n",
              "         1.57381143,  0.33065117],\n",
              "       [-0.60471809, -0.56494031, -0.76834484, -0.77324402, -0.915809  ,\n",
              "        -0.77641364, -0.5031789 ],\n",
              "       [-0.53111007,  0.25797852,  0.28970379,  1.01522825, -0.02775179,\n",
              "         1.57381143, -0.30378475],\n",
              "       [-0.74594433, -0.56494031, -0.76834484, -0.77324402, -0.24976609,\n",
              "         0.3986989 ,  0.79288306],\n",
              "       [-0.61338589, -0.65637574, -0.76834484, -0.77324402, -0.6937947 ,\n",
              "        -0.77641364, -0.5031789 ],\n",
              "       [-0.14558728, -0.29063403, -0.41566196,  0.24480943,  0.19426252,\n",
              "        -0.77641364, -0.5031789 ],\n",
              "       [ 0.1305602 , -0.38206946, -0.41566196,  2.80370052, -0.915809  ,\n",
              "        -0.77641364, -0.5031789 ],\n",
              "       [-0.76244715, -0.47350489, -0.76834484, -0.77324402, -0.4717804 ,\n",
              "         1.57381143,  2.06175491],\n",
              "       [ 0.33738395, -0.01632775, -0.41566196, -0.7526078 , -0.6937947 ,\n",
              "        -0.77641364, -0.5031789 ],\n",
              "       [ 0.24094985,  0.44084938,  0.99506955,  2.15022027, -0.6937947 ,\n",
              "        -0.77641364, -0.5031789 ],\n",
              "       [-0.26350507, -0.38206946, -0.06297909, -0.62879049, -0.915809  ,\n",
              "        -0.77641364, -0.5031789 ],\n",
              "       [ 1.40610362, -0.10776318, -0.41566196, -0.75948654, -0.24976609,\n",
              "        -0.77641364, -0.5031789 ],\n",
              "       [-0.23788463, -0.38206946, -0.41566196, -0.53936688, -0.24976609,\n",
              "         1.57381143,  4.36385099],\n",
              "       [-0.71345281,  0.07510767,  0.28970379,  0.83638102,  1.30433403,\n",
              "         1.57381143, -0.08626386],\n",
              "       [-0.66907521, -0.01632775,  0.64238667, -0.2642173 , -0.4717804 ,\n",
              "         0.3986989 , -0.49411553],\n",
              "       [ 0.36690327, -0.56494031, -0.76834484, -0.77324402,  0.19426252,\n",
              "        -0.77641364, -0.5031789 ],\n",
              "       [-0.74985187, -0.19919861,  0.28970379, -0.42242831, -0.24976609,\n",
              "        -0.77641364, -0.5031789 ],\n",
              "       [-0.48317149, -0.19919861, -0.76834484, -0.77324402,  0.41627682,\n",
              "         0.3986989 ,  0.49379184],\n",
              "       [-0.36149051, -0.01632775, -0.06297909,  1.37980144,  1.52634834,\n",
              "        -0.77641364, -0.5031789 ],\n",
              "       [ 0.68327623, -0.47350489, -0.06297909, -0.73197158, -0.4717804 ,\n",
              "         0.3986989 ,  0.24908084],\n",
              "       [-0.50484203, -0.47350489, -0.41566196,  0.32047556, -0.6937947 ,\n",
              "        -0.77641364, -0.5031789 ],\n",
              "       [ 1.30280769, -0.56494031, -0.76834484, -0.77324402,  0.86030543,\n",
              "        -0.77641364, -0.5031789 ],\n",
              "       [-0.72927746, -0.47350489, -0.41566196, -0.67694167, -0.02775179,\n",
              "        -0.77641364, -0.5031789 ],\n",
              "       [-0.40767821, -0.47350489, -0.41566196,  0.80198733, -0.24976609,\n",
              "        -0.77641364, -0.5031789 ],\n",
              "       [-0.77487089, -0.38206946, -0.41566196, -0.7526078 , -0.6937947 ,\n",
              "         0.3986989 , -0.47598879],\n",
              "       [ 0.08578468,  0.07510767,  0.28970379, -0.09912755,  0.63829112,\n",
              "         1.57381143,  1.20073473],\n",
              "       [-0.5271339 , -0.65637574, -0.76834484, -0.77324402, -0.915809  ,\n",
              "        -0.77641364, -0.5031789 ],\n",
              "       [ 0.21910651,  0.07510767,  0.64238667,  1.34540775, -0.4717804 ,\n",
              "         0.3986989 , -0.49411553],\n",
              "       [ 0.3866456 ,  0.07510767,  0.28970379, -0.33300469,  0.86030543,\n",
              "         1.57381143,  0.25814421],\n",
              "       [ 3.96279435,  1.08089736,  2.05311819,  1.42107388,  2.19239125,\n",
              "         1.57381143,  0.48472847],\n",
              "       [ 0.73756038,  0.80659108,  1.70043531,  0.76759363,  1.52634834,\n",
              "         1.57381143, -0.29472138],\n",
              "       [-0.52303373, -0.01632775,  0.28970379,  0.40302043, -0.6937947 ,\n",
              "        -0.77641364, -0.5031789 ],\n",
              "       [-0.26124453, -0.56494031, -0.76834484, -0.77324402, -0.915809  ,\n",
              "        -0.77641364, -0.5031789 ],\n",
              "       [-0.65705476,  0.1665431 , -0.41566196, -0.20918738, -0.4717804 ,\n",
              "        -0.77641364, -0.5031789 ]])"
            ]
          },
          "metadata": {},
          "execution_count": 8
        }
      ]
    },
    {
      "cell_type": "code",
      "metadata": {
        "id": "7762b4e9",
        "colab": {
          "base_uri": "https://localhost:8080/"
        },
        "outputId": "48dbad6a-bcc3-4758-c891-1f520600d21a"
      },
      "source": [
        "clustering = KMeans(n_clusters=3, random_state = 5)\n",
        "clustering.fit(X)"
      ],
      "id": "7762b4e9",
      "execution_count": 9,
      "outputs": [
        {
          "output_type": "execute_result",
          "data": {
            "text/plain": [
              "KMeans(algorithm='auto', copy_x=True, init='k-means++', max_iter=300,\n",
              "       n_clusters=3, n_init=10, n_jobs=None, precompute_distances='auto',\n",
              "       random_state=5, tol=0.0001, verbose=0)"
            ]
          },
          "metadata": {},
          "execution_count": 9
        }
      ]
    },
    {
      "cell_type": "code",
      "metadata": {
        "id": "82db7ba9",
        "colab": {
          "base_uri": "https://localhost:8080/",
          "height": 570
        },
        "outputId": "b2f0a53a-79dc-496a-e390-39160e5b53e7"
      },
      "source": [
        "color_theme = np.array(['darkgray', 'lightsalmon','powderblue'])\n",
        "plt.subplot (1,2,1)\n",
        "plt.scatter(x=df_num.incidents_85_99, y=df_num.incidents_00_14, s=50)\n",
        "plt.title (\"Clasificación Actual\") \n",
        "\n",
        "plt.subplot (1,2,2)\n",
        "plt.scatter(x=df_num.incidents_85_99, y=df_num.incidents_00_14, c=color_theme[clustering.labels_], s=50)\n",
        "plt.title (\"Clasificación K-Means\") "
      ],
      "id": "82db7ba9",
      "execution_count": 12,
      "outputs": [
        {
          "output_type": "execute_result",
          "data": {
            "text/plain": [
              "Text(0.5, 1.0, 'Clasificación K-Means')"
            ]
          },
          "metadata": {},
          "execution_count": 12
        },
        {
          "output_type": "display_data",
          "data": {
            "image/png": "[encoded data removed]",
            "text/plain": [
              "<Figure size 1152x648 with 2 Axes>"
            ]
          },
          "metadata": {
            "needs_background": "light"
          }
        }
      ]
    },
    {
      "cell_type": "code",
      "metadata": {
        "id": "b3da1444",
        "colab": {
          "base_uri": "https://localhost:8080/",
          "height": 570
        },
        "outputId": "4313ef0e-ec78-4f75-bce1-398bbfccdd76"
      },
      "source": [
        "relabel = np.choose (clustering.labels_,[2,0,1]).astype(np.int64)\n",
        "plt.subplot (1,2,1)\n",
        "plt.scatter(x=df_num.incidents_85_99, y=df_num.incidents_00_14, s=50)\n",
        "plt.title (\"Clasificación Actual\") \n",
        "\n",
        "plt.subplot (1,2,2)\n",
        "plt.scatter(x=df_num.incidents_85_99, y=df_num.incidents_00_14, c=color_theme[clustering.labels_], s=50)\n",
        "plt.title (\"Clasificación K-Means\") "
      ],
      "id": "b3da1444",
      "execution_count": 13,
      "outputs": [
        {
          "output_type": "execute_result",
          "data": {
            "text/plain": [
              "Text(0.5, 1.0, 'Clasificación K-Means')"
            ]
          },
          "metadata": {},
          "execution_count": 13
        },
        {
          "output_type": "display_data",
          "data": {
            "image/png": "[encoded data removed]",
            "text/plain": [
              "<Figure size 1152x648 with 2 Axes>"
            ]
          },
          "metadata": {
            "needs_background": "light"
          }
        }
      ]
    },
    {
      "cell_type": "code",
      "metadata": {
        "id": "ba492c4a",
        "outputId": "0488a897-5125-4916-e57e-ca7d6cedb8cb"
      },
      "source": [
        "print (classification_report(y, relabel))"
      ],
      "id": "ba492c4a",
      "execution_count": null,
      "outputs": [
        {
          "name": "stdout",
          "output_type": "stream",
          "text": [
            "              precision    recall  f1-score   support\n",
            "\n",
            "           0       1.00      1.00      1.00        50\n",
            "           1       0.74      0.78      0.76        50\n",
            "           2       0.77      0.72      0.74        50\n",
            "\n",
            "    accuracy                           0.83       150\n",
            "   macro avg       0.83      0.83      0.83       150\n",
            "weighted avg       0.83      0.83      0.83       150\n",
            "\n"
          ]
        }
      ]
    },
    {
      "cell_type": "code",
      "metadata": {
        "id": "d952738b"
      },
      "source": [
        ""
      ],
      "id": "d952738b",
      "execution_count": null,
      "outputs": []
    }
  ]
}